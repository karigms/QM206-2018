{
 "cells": [
  {
   "cell_type": "code",
   "execution_count": 25,
   "metadata": {},
   "outputs": [],
   "source": [
    "import numpy as np "
   ]
  },
  {
   "cell_type": "code",
   "execution_count": 10,
   "metadata": {},
   "outputs": [
    {
     "data": {
      "text/plain": [
       "array([0.5, 1. , 0.5])"
      ]
     },
     "execution_count": 10,
     "metadata": {},
     "output_type": "execute_result"
    }
   ],
   "source": [
    "mat=np.array([[1,0,-1],[4,0,0],[0,2,-2]])\n",
    "b=np.array([0,2,1])\n",
    "x=np.linalg.solve(mat,b)\n",
    "x"
   ]
  },
  {
   "cell_type": "code",
   "execution_count": 12,
   "metadata": {},
   "outputs": [
    {
     "data": {
      "text/plain": [
       "array([1., 2., 1.])"
      ]
     },
     "execution_count": 12,
     "metadata": {},
     "output_type": "execute_result"
    }
   ],
   "source": [
    "x*2"
   ]
  },
  {
   "cell_type": "code",
   "execution_count": 16,
   "metadata": {},
   "outputs": [
    {
     "name": "stdout",
     "output_type": "stream",
     "text": [
      "[[ 1  0 -2]\n",
      " [ 1  4 -4]\n",
      " [ 1  2  0]\n",
      " [ 0  1 -1]]\n",
      "[2. 1. 1.]\n"
     ]
    }
   ],
   "source": [
    "mat=np.array([[1,0,-2],[1,4,-4],[1,2,0],[0,1,-1]])\n",
    "print(mat)\n",
    "b=np.array([0,1,2,0])\n",
    "m=np.linalg.lstsq(mat,b,rcond=None)\n",
    "print(m[0]*2)"
   ]
  },
  {
   "cell_type": "code",
   "execution_count": 27,
   "metadata": {},
   "outputs": [
    {
     "name": "stdout",
     "output_type": "stream",
     "text": [
      "[[  1   0   0  -2   0   0]\n",
      " [  1   0   0   0   0  -1]\n",
      " [  4   4   4  -4 -12  -4]\n",
      " [  0   1   0   0  -2   0]\n",
      " [  0   1   1  -1  -3  -1]\n",
      " [  0   0   2   0   0   0]]\n",
      "[ 2. 10.  8.  1.  5.  2.]\n"
     ]
    }
   ],
   "source": [
    "mat=np.array([[1,0,0,-2,0,0],[1,0,0,0,0,-1],[4,4,4,-4,-12,-4],[0,1,0,0,-2,0],[0,1,1,-1,-3,-1],[0,0,2,0,0,0]])\n",
    "print(mat)\n",
    "b=np.array([0,0,1,0,0,2])\n",
    "m=np.linalg.lstsq(mat,b,rcond=None)\n",
    "print(m[0]*4*2)"
   ]
  },
  {
   "cell_type": "code",
   "execution_count": 28,
   "metadata": {},
   "outputs": [
    {
     "data": {
      "text/plain": [
       "array([0, 0, 1, 0, 0, 2])"
      ]
     },
     "execution_count": 28,
     "metadata": {},
     "output_type": "execute_result"
    }
   ],
   "source": [
    "b"
   ]
  },
  {
   "cell_type": "code",
   "execution_count": 30,
   "metadata": {},
   "outputs": [
    {
     "data": {
      "text/plain": [
       "7.999999999999982"
      ]
     },
     "execution_count": 30,
     "metadata": {},
     "output_type": "execute_result"
    }
   ],
   "source": [
    "sum(mat[2]*m[0]*4*2)/b[2]"
   ]
  },
  {
   "cell_type": "code",
   "execution_count": null,
   "metadata": {},
   "outputs": [],
   "source": []
  }
 ],
 "metadata": {
  "kernelspec": {
   "display_name": "Python 3",
   "language": "python",
   "name": "python3"
  },
  "language_info": {
   "codemirror_mode": {
    "name": "ipython",
    "version": 3
   },
   "file_extension": ".py",
   "mimetype": "text/x-python",
   "name": "python",
   "nbconvert_exporter": "python",
   "pygments_lexer": "ipython3",
   "version": "3.6.5"
  }
 },
 "nbformat": 4,
 "nbformat_minor": 2
}
