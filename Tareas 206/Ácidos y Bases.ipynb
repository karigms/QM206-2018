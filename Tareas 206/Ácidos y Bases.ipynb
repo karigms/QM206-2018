{
 "cells": [
  {
   "cell_type": "code",
   "execution_count": 8,
   "metadata": {},
   "outputs": [],
   "source": [
    "import requests"
   ]
  },
  {
   "cell_type": "code",
   "execution_count": 12,
   "metadata": {},
   "outputs": [],
   "source": [
    "data=requests.get(\"http://qm206.1apps.com/acidos.txt\")"
   ]
  },
  {
   "cell_type": "code",
   "execution_count": 13,
   "metadata": {},
   "outputs": [
    {
     "name": "stdout",
     "output_type": "stream",
     "text": [
      "acetic (ethanoic) acid\r\n",
      "CH3COOH\r\n",
      "1\r\n",
      "4.75\r\n",
      "citric acid\r\n",
      "C6H8O7\r\n",
      "3\r\n",
      "3.13\r\n",
      "4.76\r\n",
      "6.40\r\n",
      "carbonic acid\r\n",
      "H2CO3\r\n",
      "2\r\n",
      "6.37\r\n",
      "10.25\r\n",
      "hydrochloric acid*\r\n",
      "HCl\r\n",
      "1\r\n",
      "-4\r\n",
      "hydrogen sulfide\r\n",
      "H2S\r\n",
      "2\r\n",
      "7.04\r\n",
      "11.96\r\n",
      "nitric acid*\r\n",
      "HNO3\r\n",
      "1\r\n",
      "-1\r\n",
      "oxalic acid\r\n",
      "(COOH)2\r\n",
      "2\r\n",
      "1.25\r\n",
      "4.27\r\n",
      "perchloric acid*\r\n",
      "HClO4\r\n",
      "1\r\n",
      "-7\r\n",
      "phenol\r\n",
      "C6H5OH\r\n",
      "1\r\n",
      "9.89\r\n",
      "phosphoric acid\r\n",
      "H3PO4\r\n",
      "3\r\n",
      "2.15\r\n",
      "7.20\r\n",
      "12.35\r\n",
      "sulphuric acid*\r\n",
      "H2SO4\r\n",
      "2\r\n",
      "-3\r\n",
      "1.99\n"
     ]
    }
   ],
   "source": [
    "print(data.text)"
   ]
  },
  {
   "cell_type": "code",
   "execution_count": 15,
   "metadata": {},
   "outputs": [
    {
     "data": {
      "text/plain": [
       "'acetic (ethanoic) acid\\r\\nCH3COOH\\r\\n1\\r\\n4.75\\r\\ncitric acid\\r\\nC6H8O7\\r\\n3\\r\\n3.13\\r\\n4.76\\r\\n6.40\\r\\ncarbonic acid\\r\\nH2CO3\\r\\n2\\r\\n6.37\\r\\n10.25\\r\\nhydrochloric acid*\\r\\nHCl\\r\\n1\\r\\n-4\\r\\nhydrogen sulfide\\r\\nH2S\\r\\n2\\r\\n7.04\\r\\n11.96\\r\\nnitric acid*\\r\\nHNO3\\r\\n1\\r\\n-1\\r\\noxalic acid\\r\\n(COOH)2\\r\\n2\\r\\n1.25\\r\\n4.27\\r\\nperchloric acid*\\r\\nHClO4\\r\\n1\\r\\n-7\\r\\nphenol\\r\\nC6H5OH\\r\\n1\\r\\n9.89\\r\\nphosphoric acid\\r\\nH3PO4\\r\\n3\\r\\n2.15\\r\\n7.20\\r\\n12.35\\r\\nsulphuric acid*\\r\\nH2SO4\\r\\n2\\r\\n-3\\r\\n1.99'"
      ]
     },
     "execution_count": 15,
     "metadata": {},
     "output_type": "execute_result"
    }
   ],
   "source": [
    "cadena=data.text\n",
    "cadena"
   ]
  },
  {
   "cell_type": "code",
   "execution_count": 18,
   "metadata": {},
   "outputs": [
    {
     "data": {
      "text/plain": [
       "'acetic (ethanoic) acid\\nCH3COOH\\n1\\n4.75\\ncitric acid\\nC6H8O7\\n3\\n3.13\\n4.76\\n6.40\\ncarbonic acid\\nH2CO3\\n2\\n6.37\\n10.25\\nhydrochloric acid*\\nHCl\\n1\\n-4\\nhydrogen sulfide\\nH2S\\n2\\n7.04\\n11.96\\nnitric acid*\\nHNO3\\n1\\n-1\\noxalic acid\\n(COOH)2\\n2\\n1.25\\n4.27\\nperchloric acid*\\nHClO4\\n1\\n-7\\nphenol\\nC6H5OH\\n1\\n9.89\\nphosphoric acid\\nH3PO4\\n3\\n2.15\\n7.20\\n12.35\\nsulphuric acid*\\nH2SO4\\n2\\n-3\\n1.99'"
      ]
     },
     "execution_count": 18,
     "metadata": {},
     "output_type": "execute_result"
    }
   ],
   "source": [
    "cadena=cadena.replace(\"\\r\",\"\")\n",
    "cadena"
   ]
  },
  {
   "cell_type": "code",
   "execution_count": 34,
   "metadata": {},
   "outputs": [
    {
     "data": {
      "text/plain": [
       "['acetic (ethanoic) acid',\n",
       " 'CH3COOH',\n",
       " '1',\n",
       " '4.75',\n",
       " 'citric acid',\n",
       " 'C6H8O7',\n",
       " '3',\n",
       " '3.13',\n",
       " '4.76',\n",
       " '6.40',\n",
       " 'carbonic acid',\n",
       " 'H2CO3',\n",
       " '2',\n",
       " '6.37',\n",
       " '10.25',\n",
       " 'hydrochloric acid*',\n",
       " 'HCl',\n",
       " '1',\n",
       " '-4',\n",
       " 'hydrogen sulfide',\n",
       " 'H2S',\n",
       " '2',\n",
       " '7.04',\n",
       " '11.96',\n",
       " 'nitric acid*',\n",
       " 'HNO3',\n",
       " '1',\n",
       " '-1',\n",
       " 'oxalic acid',\n",
       " '(COOH)2',\n",
       " '2',\n",
       " '1.25',\n",
       " '4.27',\n",
       " 'perchloric acid*',\n",
       " 'HClO4',\n",
       " '1',\n",
       " '-7',\n",
       " 'phenol',\n",
       " 'C6H5OH',\n",
       " '1',\n",
       " '9.89',\n",
       " 'phosphoric acid',\n",
       " 'H3PO4',\n",
       " '3',\n",
       " '2.15',\n",
       " '7.20',\n",
       " '12.35',\n",
       " 'sulphuric acid*',\n",
       " 'H2SO4',\n",
       " '2',\n",
       " '-3',\n",
       " '1.99']"
      ]
     },
     "execution_count": 34,
     "metadata": {},
     "output_type": "execute_result"
    }
   ],
   "source": [
    "lista =cadena.split(\"\\n\")\n",
    "lista"
   ]
  },
  {
   "cell_type": "code",
   "execution_count": 35,
   "metadata": {},
   "outputs": [
    {
     "data": {
      "text/plain": [
       "1"
      ]
     },
     "execution_count": 35,
     "metadata": {},
     "output_type": "execute_result"
    }
   ],
   "source": [
    "# x para mombrar las constantes de cada compuesto.\n",
    "int(lista[2]) #cambiar de entero a numero (variable)"
   ]
  },
  {
   "cell_type": "code",
   "execution_count": 36,
   "metadata": {},
   "outputs": [
    {
     "data": {
      "text/plain": [
       "4.75"
      ]
     },
     "execution_count": 36,
     "metadata": {},
     "output_type": "execute_result"
    }
   ],
   "source": [
    "float(lista[3]) #cambiar de punto flotante a numero"
   ]
  },
  {
   "cell_type": "code",
   "execution_count": 43,
   "metadata": {},
   "outputs": [
    {
     "name": "stdout",
     "output_type": "stream",
     "text": [
      "nombre: acetic (ethanoic) acid\n",
      "formula: CH3COOH\n",
      "nombre: citric acid\n",
      "formula: C6H8O7\n",
      "nombre: carbonic acid\n",
      "formula: H2CO3\n",
      "nombre: hydrochloric acid*\n",
      "formula: HCl\n",
      "nombre: hydrogen sulfide\n",
      "formula: H2S\n",
      "nombre: nitric acid*\n",
      "formula: HNO3\n",
      "nombre: oxalic acid\n",
      "formula: (COOH)2\n",
      "nombre: perchloric acid*\n",
      "formula: HClO4\n",
      "nombre: phenol\n",
      "formula: C6H5OH\n",
      "nombre: phosphoric acid\n",
      "formula: H3PO4\n",
      "nombre: sulphuric acid*\n",
      "formula: H2SO4\n"
     ]
    }
   ],
   "source": [
    "#es para nombrar\n",
    "i=0\n",
    "while i<len(lista):\n",
    "    print(\"nombre:\",lista[i])\n",
    "    print(\"formula:\",lista[i+1])\n",
    "    n=int(lista[i+2])\n",
    "    \n",
    "    i=i+n+3\n"
   ]
  },
  {
   "cell_type": "code",
   "execution_count": 46,
   "metadata": {},
   "outputs": [
    {
     "name": "stdout",
     "output_type": "stream",
     "text": [
      "nombre: acetic (ethanoic) acid\n",
      "formula: CH3COOH\n",
      "[4.75]\n",
      "nombre: citric acid\n",
      "formula: C6H8O7\n",
      "[3.13, 4.76, 6.4]\n",
      "nombre: carbonic acid\n",
      "formula: H2CO3\n",
      "[6.37, 10.25]\n",
      "nombre: hydrochloric acid*\n",
      "formula: HCl\n",
      "[-4.0]\n",
      "nombre: hydrogen sulfide\n",
      "formula: H2S\n",
      "[7.04, 11.96]\n",
      "nombre: nitric acid*\n",
      "formula: HNO3\n",
      "[-1.0]\n",
      "nombre: oxalic acid\n",
      "formula: (COOH)2\n",
      "[1.25, 4.27]\n",
      "nombre: perchloric acid*\n",
      "formula: HClO4\n",
      "[-7.0]\n",
      "nombre: phenol\n",
      "formula: C6H5OH\n",
      "[9.89]\n",
      "nombre: phosphoric acid\n",
      "formula: H3PO4\n",
      "[2.15, 7.2, 12.35]\n",
      "nombre: sulphuric acid*\n",
      "formula: H2SO4\n",
      "[-3.0, 1.99]\n"
     ]
    }
   ],
   "source": [
    "i=0 # añadir costantes de  los compuestos \n",
    "while i<len(lista):\n",
    "    print(\"nombre:\",lista[i])\n",
    "    print(\"formula:\",lista[i+1])\n",
    "    n=int(lista[i+2])\n",
    "    Ka=[]\n",
    "    for k in range (n):\n",
    "        Ka.append(float(lista[i+3+k]))\n",
    "    print (Ka)\n",
    "    \n",
    "    i=i+n+3"
   ]
  },
  {
   "cell_type": "code",
   "execution_count": 54,
   "metadata": {},
   "outputs": [
    {
     "name": "stdout",
     "output_type": "stream",
     "text": [
      "nombre: acetic (ethanoic) acid\n",
      "formula: CH3COOH\n",
      "[4.75]\n",
      "nombre: citric acid\n",
      "formula: C6H8O7\n",
      "[3.13, 4.76, 6.4]\n",
      "nombre: carbonic acid\n",
      "formula: H2CO3\n",
      "[6.37, 10.25]\n",
      "nombre: hydrochloric acid*\n",
      "formula: HCl\n",
      "[-4.0]\n",
      "nombre: hydrogen sulfide\n",
      "formula: H2S\n",
      "[7.04, 11.96]\n",
      "nombre: nitric acid*\n",
      "formula: HNO3\n",
      "[-1.0]\n",
      "nombre: oxalic acid\n",
      "formula: (COOH)2\n",
      "[1.25, 4.27]\n",
      "nombre: perchloric acid*\n",
      "formula: HClO4\n",
      "[-7.0]\n",
      "nombre: phenol\n",
      "formula: C6H5OH\n",
      "[9.89]\n",
      "nombre: phosphoric acid\n",
      "formula: H3PO4\n",
      "[2.15, 7.2, 12.35]\n",
      "nombre: sulphuric acid*\n",
      "formula: H2SO4\n",
      "[-3.0, 1.99]\n"
     ]
    },
    {
     "data": {
      "text/plain": [
       "{'CH3COOH': [4.75],\n",
       " 'C6H8O7': [3.13, 4.76, 6.4],\n",
       " 'H2CO3': [6.37, 10.25],\n",
       " 'HCl': [-4.0],\n",
       " 'H2S': [7.04, 11.96],\n",
       " 'HNO3': [-1.0],\n",
       " '(COOH)2': [1.25, 4.27],\n",
       " 'HClO4': [-7.0],\n",
       " 'C6H5OH': [9.89],\n",
       " 'H3PO4': [2.15, 7.2, 12.35],\n",
       " 'H2SO4': [-3.0, 1.99]}"
      ]
     },
     "execution_count": 54,
     "metadata": {},
     "output_type": "execute_result"
    }
   ],
   "source": [
    "Acidos={}#diccionario de acidos  para obtener Ka con solo nombrar formula\n",
    "i=0\n",
    "while i<len(lista):\n",
    "    print(\"nombre:\",lista[i])\n",
    "    print(\"formula:\",lista[i+1])\n",
    "    nombre=lista[i]\n",
    "    formula=lista[i+1]\n",
    "    n=int(lista[i+2])\n",
    "    Ka=[]\n",
    "    for k in range (n):\n",
    "        Ka.append(float(lista[i+3+k]))\n",
    "    print (Ka)\n",
    "    \n",
    "    Acidos[formula]=Ka\n",
    "    i=i+n+3\n",
    "Acidos"
   ]
  },
  {
   "cell_type": "code",
   "execution_count": 55,
   "metadata": {},
   "outputs": [
    {
     "data": {
      "text/plain": [
       "[-4.0]"
      ]
     },
     "execution_count": 55,
     "metadata": {},
     "output_type": "execute_result"
    }
   ],
   "source": [
    "Acidos[\"HCl\"]# ejemplo nombrando formula "
   ]
  },
  {
   "cell_type": "code",
   "execution_count": 56,
   "metadata": {},
   "outputs": [],
   "source": [
    "data=requests.get(\"http://qm206.1apps.com/bases.txt\")"
   ]
  },
  {
   "cell_type": "code",
   "execution_count": 57,
   "metadata": {},
   "outputs": [
    {
     "name": "stdout",
     "output_type": "stream",
     "text": [
      "ammonia\r\n",
      "NH3\r\n",
      "1\r\n",
      "4.75\r\n",
      "calcium hydroxide\r\n",
      "Ca(OH)2\r\n",
      "2\r\n",
      "2.43\r\n",
      "1.4\r\n",
      "lithium hydroxide\r\n",
      "LiOH\r\n",
      "1\r\n",
      "-0.36\r\n",
      "methylamine\r\n",
      "CH3NH2\r\n",
      "1\r\n",
      "3.36\r\n",
      "ethylamine\r\n",
      "C2H5NH2N\r\n",
      "1\r\n",
      "3.25\r\n",
      "potassium hydroxide\r\n",
      "KOH\r\n",
      "1\r\n",
      "0.5\r\n",
      "sodium hydroxide\r\n",
      "NaOH\r\n",
      "1\r\n",
      "0.2\r\n",
      "aniline\r\n",
      "C6H5NH2\r\n",
      "1\r\n",
      "9.4\n"
     ]
    }
   ],
   "source": [
    "print(data.text)"
   ]
  },
  {
   "cell_type": "code",
   "execution_count": 58,
   "metadata": {},
   "outputs": [
    {
     "data": {
      "text/plain": [
       "'ammonia\\r\\nNH3\\r\\n1\\r\\n4.75\\r\\ncalcium hydroxide\\r\\nCa(OH)2\\r\\n2\\r\\n2.43\\r\\n1.4\\r\\nlithium hydroxide\\r\\nLiOH\\r\\n1\\r\\n-0.36\\r\\nmethylamine\\r\\nCH3NH2\\r\\n1\\r\\n3.36\\r\\nethylamine\\r\\nC2H5NH2N\\r\\n1\\r\\n3.25\\r\\npotassium hydroxide\\r\\nKOH\\r\\n1\\r\\n0.5\\r\\nsodium hydroxide\\r\\nNaOH\\r\\n1\\r\\n0.2\\r\\naniline\\r\\nC6H5NH2\\r\\n1\\r\\n9.4'"
      ]
     },
     "execution_count": 58,
     "metadata": {},
     "output_type": "execute_result"
    }
   ],
   "source": [
    "cadena=data.text\n",
    "cadena"
   ]
  },
  {
   "cell_type": "code",
   "execution_count": 59,
   "metadata": {},
   "outputs": [
    {
     "data": {
      "text/plain": [
       "'ammonia\\nNH3\\n1\\n4.75\\ncalcium hydroxide\\nCa(OH)2\\n2\\n2.43\\n1.4\\nlithium hydroxide\\nLiOH\\n1\\n-0.36\\nmethylamine\\nCH3NH2\\n1\\n3.36\\nethylamine\\nC2H5NH2N\\n1\\n3.25\\npotassium hydroxide\\nKOH\\n1\\n0.5\\nsodium hydroxide\\nNaOH\\n1\\n0.2\\naniline\\nC6H5NH2\\n1\\n9.4'"
      ]
     },
     "execution_count": 59,
     "metadata": {},
     "output_type": "execute_result"
    }
   ],
   "source": [
    "cadena=cadena.replace(\"\\r\",\"\")\n",
    "cadena"
   ]
  },
  {
   "cell_type": "code",
   "execution_count": 60,
   "metadata": {},
   "outputs": [
    {
     "data": {
      "text/plain": [
       "['ammonia',\n",
       " 'NH3',\n",
       " '1',\n",
       " '4.75',\n",
       " 'calcium hydroxide',\n",
       " 'Ca(OH)2',\n",
       " '2',\n",
       " '2.43',\n",
       " '1.4',\n",
       " 'lithium hydroxide',\n",
       " 'LiOH',\n",
       " '1',\n",
       " '-0.36',\n",
       " 'methylamine',\n",
       " 'CH3NH2',\n",
       " '1',\n",
       " '3.36',\n",
       " 'ethylamine',\n",
       " 'C2H5NH2N',\n",
       " '1',\n",
       " '3.25',\n",
       " 'potassium hydroxide',\n",
       " 'KOH',\n",
       " '1',\n",
       " '0.5',\n",
       " 'sodium hydroxide',\n",
       " 'NaOH',\n",
       " '1',\n",
       " '0.2',\n",
       " 'aniline',\n",
       " 'C6H5NH2',\n",
       " '1',\n",
       " '9.4']"
      ]
     },
     "execution_count": 60,
     "metadata": {},
     "output_type": "execute_result"
    }
   ],
   "source": [
    "lista =cadena.split(\"\\n\")\n",
    "lista"
   ]
  },
  {
   "cell_type": "code",
   "execution_count": 61,
   "metadata": {},
   "outputs": [
    {
     "data": {
      "text/plain": [
       "1"
      ]
     },
     "execution_count": 61,
     "metadata": {},
     "output_type": "execute_result"
    }
   ],
   "source": [
    "int(lista[2])"
   ]
  },
  {
   "cell_type": "code",
   "execution_count": 62,
   "metadata": {},
   "outputs": [
    {
     "data": {
      "text/plain": [
       "1"
      ]
     },
     "execution_count": 62,
     "metadata": {},
     "output_type": "execute_result"
    }
   ],
   "source": [
    "int(lista[2])"
   ]
  },
  {
   "cell_type": "code",
   "execution_count": 63,
   "metadata": {},
   "outputs": [
    {
     "name": "stdout",
     "output_type": "stream",
     "text": [
      "nombre: ammonia\n",
      "formula: NH3\n",
      "nombre: calcium hydroxide\n",
      "formula: Ca(OH)2\n",
      "nombre: lithium hydroxide\n",
      "formula: LiOH\n",
      "nombre: methylamine\n",
      "formula: CH3NH2\n",
      "nombre: ethylamine\n",
      "formula: C2H5NH2N\n",
      "nombre: potassium hydroxide\n",
      "formula: KOH\n",
      "nombre: sodium hydroxide\n",
      "formula: NaOH\n",
      "nombre: aniline\n",
      "formula: C6H5NH2\n"
     ]
    }
   ],
   "source": [
    "i=0 #PARA NOMBRAr nombre de compuesto y formula.\n",
    "while i<len(lista):\n",
    "    print(\"nombre:\",lista[i])\n",
    "    print(\"formula:\",lista[i+1])\n",
    "    n=int(lista[i+2])\n",
    "    \n",
    "    i=i+n+3"
   ]
  },
  {
   "cell_type": "code",
   "execution_count": 65,
   "metadata": {},
   "outputs": [
    {
     "name": "stdout",
     "output_type": "stream",
     "text": [
      "nombre: ammonia\n",
      "formula: NH3\n",
      "[4.75]\n",
      "nombre: calcium hydroxide\n",
      "formula: Ca(OH)2\n",
      "[2.43, 1.4]\n",
      "nombre: lithium hydroxide\n",
      "formula: LiOH\n",
      "[-0.36]\n",
      "nombre: methylamine\n",
      "formula: CH3NH2\n",
      "[3.36]\n",
      "nombre: ethylamine\n",
      "formula: C2H5NH2N\n",
      "[3.25]\n",
      "nombre: potassium hydroxide\n",
      "formula: KOH\n",
      "[0.5]\n",
      "nombre: sodium hydroxide\n",
      "formula: NaOH\n",
      "[0.2]\n",
      "nombre: aniline\n",
      "formula: C6H5NH2\n",
      "[9.4]\n"
     ]
    }
   ],
   "source": [
    "i=0 # añadir costantes de  los compuestos \n",
    "while i<len(lista):\n",
    "    print(\"nombre:\",lista[i])\n",
    "    print(\"formula:\",lista[i+1])\n",
    "    n=int(lista[i+2])\n",
    "    Kb=[]\n",
    "    for k in range (n):\n",
    "        Kb.append(float(lista[i+3+k]))\n",
    "    print (Kb)\n",
    "    \n",
    "    i=i+n+3"
   ]
  },
  {
   "cell_type": "code",
   "execution_count": 68,
   "metadata": {},
   "outputs": [
    {
     "name": "stdout",
     "output_type": "stream",
     "text": [
      "nombre: ammonia\n",
      "formula: NH3\n",
      "[4.75]\n",
      "nombre: calcium hydroxide\n",
      "formula: Ca(OH)2\n",
      "[2.43, 1.4]\n",
      "nombre: lithium hydroxide\n",
      "formula: LiOH\n",
      "[-0.36]\n",
      "nombre: methylamine\n",
      "formula: CH3NH2\n",
      "[3.36]\n",
      "nombre: ethylamine\n",
      "formula: C2H5NH2N\n",
      "[3.25]\n",
      "nombre: potassium hydroxide\n",
      "formula: KOH\n",
      "[0.5]\n",
      "nombre: sodium hydroxide\n",
      "formula: NaOH\n",
      "[0.2]\n",
      "nombre: aniline\n",
      "formula: C6H5NH2\n",
      "[9.4]\n"
     ]
    },
    {
     "data": {
      "text/plain": [
       "{'NH3': [4.75],\n",
       " 'Ca(OH)2': [2.43, 1.4],\n",
       " 'LiOH': [-0.36],\n",
       " 'CH3NH2': [3.36],\n",
       " 'C2H5NH2N': [3.25],\n",
       " 'KOH': [0.5],\n",
       " 'NaOH': [0.2],\n",
       " 'C6H5NH2': [9.4]}"
      ]
     },
     "execution_count": 68,
     "metadata": {},
     "output_type": "execute_result"
    }
   ],
   "source": [
    "Bases={}#diccionario de bases para obtener Ka con solo nombrar formula\n",
    "i=0\n",
    "while i<len(lista):\n",
    "    print(\"nombre:\",lista[i])\n",
    "    print(\"formula:\",lista[i+1])\n",
    "    nombre=lista[i]\n",
    "    formula=lista[i+1]\n",
    "    n=int(lista[i+2])\n",
    "    Kb=[]\n",
    "    for k in range (n):\n",
    "        Kb.append(float(lista[i+3+k]))\n",
    "    print (Kb)\n",
    "    \n",
    "    Bases[formula]=Kb\n",
    "    i=i+n+3\n",
    "Bases"
   ]
  },
  {
   "cell_type": "code",
   "execution_count": 70,
   "metadata": {},
   "outputs": [
    {
     "data": {
      "text/plain": [
       "[4.75]"
      ]
     },
     "execution_count": 70,
     "metadata": {},
     "output_type": "execute_result"
    }
   ],
   "source": [
    "Bases[\"NH3\"] #EJEMPLO DE NOMBRAR FORMULA PARA OBTENER SU CONSTANTE "
   ]
  }
 ],
 "metadata": {
  "kernelspec": {
   "display_name": "Python 3",
   "language": "python",
   "name": "python3"
  },
  "language_info": {
   "codemirror_mode": {
    "name": "ipython",
    "version": 3
   },
   "file_extension": ".py",
   "mimetype": "text/x-python",
   "name": "python",
   "nbconvert_exporter": "python",
   "pygments_lexer": "ipython3",
   "version": "3.6.5"
  }
 },
 "nbformat": 4,
 "nbformat_minor": 2
}
